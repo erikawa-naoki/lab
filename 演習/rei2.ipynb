{
 "cells": [
  {
   "cell_type": "markdown",
   "id": "696597f1",
   "metadata": {},
   "source": [
    "状態ベクトルシミュレータで量子状態を調べる"
   ]
  },
  {
   "cell_type": "code",
   "execution_count": 27,
   "id": "1c3a4d33",
   "metadata": {},
   "outputs": [
    {
     "name": "stdout",
     "output_type": "stream",
     "text": [
      "notebook ready\n"
     ]
    }
   ],
   "source": [
    "# まずは全てインポート\n",
    "import sys\n",
    "sys.path.append(r'c:\\Users\\naoki\\Jupyter_qiskit\\kadai')\n",
    "\n",
    "import numpy as np\n",
    "import matplotlib.pyplot as plt\n",
    "from IPython.display import Math\n",
    "from qiskit import QuantumCircuit, QuantumRegister, ClassicalRegister, transpile\n",
    "from qiskit_aer import AerSimulator\n",
    "from qiskit_aer.primitives import SamplerV2 as Sampler\n",
    "# qc_workbookはこのワークブック独自のモジュール（インポートエラーが出る場合はPYTHONPATHを設定するか、sys.pathをいじってください）\n",
    "from qc_workbook.show_state import statevector_expr\n",
    "\n",
    "print('notebook ready')"
   ]
  },
  {
   "cell_type": "code",
   "execution_count": 28,
   "id": "703d7308",
   "metadata": {},
   "outputs": [
    {
     "name": "stdout",
     "output_type": "stream",
     "text": [
      "aer_simulator_statevector\n"
     ]
    }
   ],
   "source": [
    "simulator = AerSimulator(method='statevector')\n",
    "print(simulator.name)"
   ]
  },
  {
   "cell_type": "code",
   "execution_count": 29,
   "id": "af87e06c",
   "metadata": {},
   "outputs": [
    {
     "data": {
      "image/png": "[encoded data removed]",
      "text/plain": [
       "<Figure size 370.906x200.667 with 1 Axes>"
      ]
     },
     "execution_count": 29,
     "metadata": {},
     "output_type": "execute_result"
    }
   ],
   "source": [
    "circuit = QuantumCircuit(2)\n",
    "circuit.h(0)\n",
    "circuit.cx(0, 1)\n",
    "circuit.ry(-3. * np.pi / 4., 1)\n",
    "\n",
    "circuit.draw('mpl')"
   ]
  },
  {
   "cell_type": "code",
   "execution_count": 30,
   "id": "6188bf6f",
   "metadata": {},
   "outputs": [
    {
     "name": "stdout",
     "output_type": "stream",
     "text": [
      "<class 'numpy.ndarray'> complex128\n",
      "[ 0.27059805+0.j  0.65328148+0.j -0.65328148+0.j  0.27059805+0.j]\n"
     ]
    }
   ],
   "source": [
    "def get_statevector_array(circuit):\n",
    "    # 渡された回路のコピーを使う\n",
    "    circuit = circuit.copy()\n",
    "    # 量子回路の終状態の状態ベクトルを保存するインストラクション\n",
    "    circuit.save_statevector()\n",
    "    # 再び「おまじない」のtranspileをしてから、run()に渡す\n",
    "    circuit = transpile(circuit, backend=simulator)\n",
    "    job = simulator.run(circuit)\n",
    "    result = job.result()\n",
    "    qiskit_statevector = result.data()['statevector']\n",
    "\n",
    "    # result.data()['statevector']は通常の配列オブジェクト（ndarray）ではなくqiskit独自のクラスのインスタンス\n",
    "    # ただし np.asarray() で numpy の ndarray に変換可能\n",
    "    return np.asarray(qiskit_statevector)\n",
    "\n",
    "statevector = get_statevector_array(circuit)\n",
    "print(type(statevector), statevector.dtype)\n",
    "print(statevector)"
   ]
  },
  {
   "cell_type": "code",
   "execution_count": 31,
   "id": "a5e2bed7",
   "metadata": {},
   "outputs": [
    {
     "data": {
      "text/latex": [
       "$\\displaystyle | \\text{final} \\rangle = 0.271 |0\\rangle + 0.653 |1\\rangle - 0.653 |2\\rangle + 0.271 |3\\rangle$"
      ],
      "text/plain": [
       "<IPython.core.display.Math object>"
      ]
     },
     "execution_count": 31,
     "metadata": {},
     "output_type": "execute_result"
    }
   ],
   "source": [
    "expr = statevector_expr(statevector)\n",
    "\n",
    "# Math()はLaTeXをタイプセットする関数\n",
    "Math(expr)"
   ]
  },
  {
   "cell_type": "markdown",
   "id": "9c443dfb",
   "metadata": {},
   "source": [
    "問題1〜3は相対位相の導入や多重制御ゲートの利用例"
   ]
  },
  {
   "cell_type": "markdown",
   "id": "1e67164f",
   "metadata": {},
   "source": [
    "問題１：量子ビット、相対位相付き"
   ]
  },
  {
   "cell_type": "code",
   "execution_count": 32,
   "id": "d626af6a",
   "metadata": {},
   "outputs": [
    {
     "data": {
      "text/latex": [
       "$\\displaystyle | \\text{final} \\rangle = \\frac{1}{\\sqrt{2}}\\left( |0\\rangle + i |1\\rangle\\right)$"
      ],
      "text/plain": [
       "<IPython.core.display.Math object>"
      ]
     },
     "execution_count": 32,
     "metadata": {},
     "output_type": "execute_result"
    }
   ],
   "source": [
    "circuit = QuantumCircuit(1)\n",
    "##################\n",
    "### EDIT BELOW ###\n",
    "##################\n",
    "circuit.h(0)\n",
    "circuit.p(np.pi / 2., 0)\n",
    "\n",
    "##################\n",
    "### EDIT ABOVE ###\n",
    "##################\n",
    "\n",
    "expr = statevector_expr(circuit, amp_norm=(np.sqrt(0.5), r'\\frac{1}{\\sqrt{2}}'))\n",
    "Math(expr)"
   ]
  },
  {
   "cell_type": "markdown",
   "id": "38d513ac",
   "metadata": {},
   "source": [
    "問題２：ベル状態、相対位相付き"
   ]
  },
  {
   "cell_type": "code",
   "execution_count": 33,
   "id": "f869a911",
   "metadata": {},
   "outputs": [
    {
     "data": {
      "text/latex": [
       "$\\displaystyle | \\text{final} \\rangle = \\frac{1}{\\sqrt{2}}\\left( |0\\rangle + i |3\\rangle\\right)$"
      ],
      "text/plain": [
       "<IPython.core.display.Math object>"
      ]
     },
     "execution_count": 33,
     "metadata": {},
     "output_type": "execute_result"
    }
   ],
   "source": [
    "circuit = QuantumCircuit(2)\n",
    "\n",
    "##################\n",
    "### EDIT BELOW ###\n",
    "##################\n",
    "circuit.h(0)\n",
    "circuit.p(np.pi / 2., 0)\n",
    "circuit.cx(0, 1)\n",
    "##################\n",
    "### EDIT ABOVE ###\n",
    "##################\n",
    "\n",
    "expr = statevector_expr(circuit, amp_norm=(np.sqrt(0.5), r'\\frac{1}{\\sqrt{2}}'))\n",
    "Math(expr)"
   ]
  },
  {
   "cell_type": "markdown",
   "id": "028c50af",
   "metadata": {},
   "source": [
    "問題3: GHZ状態"
   ]
  },
  {
   "cell_type": "code",
   "execution_count": 34,
   "id": "3b13d926",
   "metadata": {},
   "outputs": [
    {
     "data": {
      "text/latex": [
       "$\\displaystyle | \\text{final} \\rangle = \\frac{1}{\\sqrt{2}}\\left( |0\\rangle +  |7\\rangle\\right)$"
      ],
      "text/plain": [
       "<IPython.core.display.Math object>"
      ]
     },
     "execution_count": 34,
     "metadata": {},
     "output_type": "execute_result"
    }
   ],
   "source": [
    "circuit = QuantumCircuit(3)\n",
    "\n",
    "##################\n",
    "### EDIT BELOW ###\n",
    "##################\n",
    "circuit.h(0)\n",
    "circuit.cx(0, 1)\n",
    "circuit.mcx([0, 1], 2)\n",
    "##################\n",
    "### EDIT ABOVE ###\n",
    "##################\n",
    "\n",
    "expr = statevector_expr(circuit, amp_norm=(np.sqrt(0.5), r'\\frac{1}{\\sqrt{2}}'))\n",
    "Math(expr)"
   ]
  },
  {
   "cell_type": "markdown",
   "id": "c2929b9b",
   "metadata": {},
   "source": [
    "問題4: Equal superposition 各量子ビットにHadamardを適用することで均等重ね合わせ状態を実現"
   ]
  },
  {
   "cell_type": "code",
   "execution_count": 35,
   "id": "9159be67",
   "metadata": {},
   "outputs": [
    {
     "data": {
      "text/latex": [
       "$\\displaystyle | \\text{final} \\rangle = \\frac{1}{4}\\left( |0\\rangle +  |1\\rangle +  |2\\rangle +  |3\\rangle +  |4\\rangle +  |5\\rangle +  |6\\rangle +  |7\\rangle +  |8\\rangle +  |9\\rangle +  |10\\rangle +  |11\\rangle +  |12\\rangle +  |13\\rangle +  |14\\rangle +  |15\\rangle\\right)$"
      ],
      "text/plain": [
       "<IPython.core.display.Math object>"
      ]
     },
     "execution_count": 35,
     "metadata": {},
     "output_type": "execute_result"
    }
   ],
   "source": [
    "num_qubits = 4\n",
    "\n",
    "circuit = QuantumCircuit(num_qubits)\n",
    "\n",
    "##################\n",
    "### EDIT BELOW ###\n",
    "##################\n",
    "for i in range(4):\n",
    "    circuit.h(i)\n",
    "##################\n",
    "### EDIT ABOVE ###\n",
    "##################\n",
    "\n",
    "sqrt_2_to_n = 2 ** (num_qubits // 2)\n",
    "expr = statevector_expr(circuit, amp_norm=(1. / sqrt_2_to_n, r'\\frac{1}{%d}' % sqrt_2_to_n))\n",
    "Math(expr)"
   ]
  },
  {
   "cell_type": "markdown",
   "id": "0bf8fc6c",
   "metadata": {},
   "source": [
    "問題5: 特定の基底の符号を反転させる制御の例"
   ]
  },
  {
   "cell_type": "code",
   "execution_count": 36,
   "id": "88f1c703",
   "metadata": {},
   "outputs": [
    {
     "data": {
      "text/latex": [
       "$\\displaystyle | \\text{final} \\rangle = \\frac{1}{4}\\left( |0\\rangle +  |1\\rangle +  |2\\rangle +  |3\\rangle +  |4\\rangle -  |5\\rangle +  |6\\rangle +  |7\\rangle +  |8\\rangle +  |9\\rangle +  |10\\rangle +  |11\\rangle +  |12\\rangle +  |13\\rangle +  |14\\rangle +  |15\\rangle\\right)$"
      ],
      "text/plain": [
       "<IPython.core.display.Math object>"
      ]
     },
     "execution_count": 36,
     "metadata": {},
     "output_type": "execute_result"
    }
   ],
   "source": [
    "num_qubits = 4\n",
    "\n",
    "circuit = QuantumCircuit(num_qubits)\n",
    "\n",
    "##################\n",
    "### EDIT BELOW ###\n",
    "##################\n",
    "for i in range(4):\n",
    "    circuit.h(i)\n",
    "\n",
    "circuit.x(1)\n",
    "circuit.x(3)\n",
    "circuit.mcp(np.pi, [0, 1, 2], 3)\n",
    "circuit.x(1) # Xの逆操作はX\n",
    "circuit.x(3)\n",
    "##################\n",
    "### EDIT ABOVE ###\n",
    "##################\n",
    "\n",
    "sqrt_2_to_n = 2 ** (num_qubits // 2)\n",
    "expr = statevector_expr(circuit, amp_norm=(1. / sqrt_2_to_n, r'\\frac{1}{%d}' % sqrt_2_to_n))\n",
    "Math(expr)"
   ]
  },
  {
   "cell_type": "markdown",
   "id": "af3b5cb6",
   "metadata": {},
   "source": [
    "問題6: Equal superpositionに位相を付ける\n"
   ]
  },
  {
   "cell_type": "code",
   "execution_count": 37,
   "id": "5046cc84",
   "metadata": {},
   "outputs": [
    {
     "data": {
      "text/latex": [
       "$\\displaystyle | \\text{final} \\rangle = \\frac{1}{8}\\left( |0\\rangle + e^{2.50 \\cdot \\frac{2 \\pi i}{64} i} |1\\rangle + e^{5 \\cdot \\frac{2 \\pi i}{64} i} |2\\rangle + e^{7.50 \\cdot \\frac{2 \\pi i}{64} i} |3\\rangle + e^{10 \\cdot \\frac{2 \\pi i}{64} i} |4\\rangle + e^{12.50 \\cdot \\frac{2 \\pi i}{64} i} |5\\rangle + e^{15 \\cdot \\frac{2 \\pi i}{64} i} |6\\rangle + e^{17.50 \\cdot \\frac{2 \\pi i}{64} i} |7\\rangle + e^{20 \\cdot \\frac{2 \\pi i}{64} i} |8\\rangle + e^{22.50 \\cdot \\frac{2 \\pi i}{64} i} |9\\rangle + e^{25 \\cdot \\frac{2 \\pi i}{64} i} |10\\rangle + e^{27.50 \\cdot \\frac{2 \\pi i}{64} i} |11\\rangle + e^{30 \\cdot \\frac{2 \\pi i}{64} i} |12\\rangle + e^{32.50 \\cdot \\frac{2 \\pi i}{64} i} |13\\rangle + e^{35 \\cdot \\frac{2 \\pi i}{64} i} |14\\rangle + e^{37.50 \\cdot \\frac{2 \\pi i}{64} i} |15\\rangle + e^{40 \\cdot \\frac{2 \\pi i}{64} i} |16\\rangle + e^{42.50 \\cdot \\frac{2 \\pi i}{64} i} |17\\rangle + e^{45 \\cdot \\frac{2 \\pi i}{64} i} |18\\rangle + e^{47.50 \\cdot \\frac{2 \\pi i}{64} i} |19\\rangle + e^{50 \\cdot \\frac{2 \\pi i}{64} i} |20\\rangle + e^{52.50 \\cdot \\frac{2 \\pi i}{64} i} |21\\rangle + e^{55 \\cdot \\frac{2 \\pi i}{64} i} |22\\rangle + e^{57.50 \\cdot \\frac{2 \\pi i}{64} i} |23\\rangle + e^{60 \\cdot \\frac{2 \\pi i}{64} i} |24\\rangle + e^{62.50 \\cdot \\frac{2 \\pi i}{64} i} |25\\rangle + e^{\\frac{2 \\pi i}{64} i} |26\\rangle + e^{3.50 \\cdot \\frac{2 \\pi i}{64} i} |27\\rangle + e^{6 \\cdot \\frac{2 \\pi i}{64} i} |28\\rangle + e^{8.50 \\cdot \\frac{2 \\pi i}{64} i} |29\\rangle + e^{11 \\cdot \\frac{2 \\pi i}{64} i} |30\\rangle + e^{13.50 \\cdot \\frac{2 \\pi i}{64} i} |31\\rangle + i |32\\rangle + e^{18.50 \\cdot \\frac{2 \\pi i}{64} i} |33\\rangle + e^{21 \\cdot \\frac{2 \\pi i}{64} i} |34\\rangle + e^{23.50 \\cdot \\frac{2 \\pi i}{64} i} |35\\rangle + e^{26 \\cdot \\frac{2 \\pi i}{64} i} |36\\rangle + e^{28.50 \\cdot \\frac{2 \\pi i}{64} i} |37\\rangle + e^{31 \\cdot \\frac{2 \\pi i}{64} i} |38\\rangle + e^{33.50 \\cdot \\frac{2 \\pi i}{64} i} |39\\rangle + e^{36 \\cdot \\frac{2 \\pi i}{64} i} |40\\rangle + e^{38.50 \\cdot \\frac{2 \\pi i}{64} i} |41\\rangle + e^{41 \\cdot \\frac{2 \\pi i}{64} i} |42\\rangle + e^{43.50 \\cdot \\frac{2 \\pi i}{64} i} |43\\rangle + e^{46 \\cdot \\frac{2 \\pi i}{64} i} |44\\rangle + e^{48.50 \\cdot \\frac{2 \\pi i}{64} i} |45\\rangle + e^{51 \\cdot \\frac{2 \\pi i}{64} i} |46\\rangle + e^{53.50 \\cdot \\frac{2 \\pi i}{64} i} |47\\rangle + e^{56 \\cdot \\frac{2 \\pi i}{64} i} |48\\rangle + e^{58.50 \\cdot \\frac{2 \\pi i}{64} i} |49\\rangle + e^{61 \\cdot \\frac{2 \\pi i}{64} i} |50\\rangle + e^{63.50 \\cdot \\frac{2 \\pi i}{64} i} |51\\rangle + e^{2 \\cdot \\frac{2 \\pi i}{64} i} |52\\rangle + e^{4.50 \\cdot \\frac{2 \\pi i}{64} i} |53\\rangle + e^{7 \\cdot \\frac{2 \\pi i}{64} i} |54\\rangle + e^{9.50 \\cdot \\frac{2 \\pi i}{64} i} |55\\rangle + e^{12 \\cdot \\frac{2 \\pi i}{64} i} |56\\rangle + e^{14.50 \\cdot \\frac{2 \\pi i}{64} i} |57\\rangle + e^{17 \\cdot \\frac{2 \\pi i}{64} i} |58\\rangle + e^{19.50 \\cdot \\frac{2 \\pi i}{64} i} |59\\rangle + e^{22 \\cdot \\frac{2 \\pi i}{64} i} |60\\rangle + e^{24.50 \\cdot \\frac{2 \\pi i}{64} i} |61\\rangle + e^{27 \\cdot \\frac{2 \\pi i}{64} i} |62\\rangle + e^{29.50 \\cdot \\frac{2 \\pi i}{64} i} |63\\rangle\\right)$"
      ],
      "text/plain": [
       "<IPython.core.display.Math object>"
      ]
     },
     "execution_count": 37,
     "metadata": {},
     "output_type": "execute_result"
    }
   ],
   "source": [
    "num_qubits = 6\n",
    "\n",
    "circuit = QuantumCircuit(num_qubits)\n",
    "\n",
    "s = 2.5\n",
    "\n",
    "##################\n",
    "### EDIT BELOW ###\n",
    "##################\n",
    "for m in range(num_qubits):\n",
    "    circuit.h(m)\n",
    "    circuit.p(2. * np.pi * s / (2 ** (num_qubits - m)), m)\n",
    "##################\n",
    "### EDIT ABOVE ###\n",
    "##################\n",
    "\n",
    "sqrt_2_to_n = 2 ** (num_qubits // 2)\n",
    "amp_norm = (1. / sqrt_2_to_n, r'\\frac{1}{%d}' % sqrt_2_to_n)\n",
    "phase_norm = (2 * np.pi / (2 ** num_qubits), r'\\frac{2 \\pi i}{%d}' % (2 ** num_qubits))\n",
    "expr = statevector_expr(circuit, amp_norm, phase_norm=phase_norm)\n",
    "Math(expr)"
   ]
  },
  {
   "cell_type": "markdown",
   "id": "4df35fd1",
   "metadata": {},
   "source": [
    "測定結果にづいた分岐"
   ]
  },
  {
   "cell_type": "code",
   "execution_count": 38,
   "id": "266c62ff",
   "metadata": {},
   "outputs": [
    {
     "data": {
      "image/png": "[encoded data removed]",
      "text/plain": [
       "<Figure size 1255.29x535.111 with 1 Axes>"
      ]
     },
     "execution_count": 38,
     "metadata": {},
     "output_type": "execute_result"
    }
   ],
   "source": [
    "register1 = QuantumRegister(4, name='reg1')\n",
    "register2 = QuantumRegister(1, name='reg2')\n",
    "output1 = ClassicalRegister(4, name='out1') # 測定結果を保持する「古典レジスタ」オブジェクト\n",
    "\n",
    "circuit = QuantumCircuit(register1, register2, output1)\n",
    "\n",
    "# register1にequal superpositionを実現\n",
    "circuit.h(register1)\n",
    "# register1を測定し、結果をoutput1に書き込む\n",
    "circuit.measure(register1, output1)\n",
    "\n",
    "# output1の各位iの0/1に応じて、dtheta * 2^iだけRyをかけると、全体としてRy(2pi * j/16)が実現する\n",
    "dtheta = 2. * np.pi / 16.\n",
    "\n",
    "for idx in range(4):\n",
    "    # circuit.***.c_if(classical_bit, 1) <- classical_bitが1のときに***ゲートをかける\n",
    "    angle = dtheta * (2 ** idx)\n",
    "    # Ryゲートを量子回路に追加\n",
    "    #circuit.ry(angle, register2[0])\n",
    "    # 古典レジスタの各ビットに基づいて条件付きでゲートを適用\n",
    "    #circuit.append(circuit[0], [register2[0]]).c_if(output1, 1 << idx) # 1 << idxを条件として使う#改良点\n",
    "    condition_value = 1 << idx  # 例：idx=2 → 0b0100 → 4\n",
    "\n",
    "    # 新しい条件分岐構文を使う\n",
    "    with circuit.if_test((output1, condition_value)):\n",
    "        circuit.ry(angle, register2[0])\n",
    "circuit.draw('mpl')"
   ]
  },
  {
   "cell_type": "code",
   "execution_count": 39,
   "id": "d8d8ebae",
   "metadata": {},
   "outputs": [
    {
     "data": {
      "text/latex": [
       "$\\displaystyle | \\text{final} \\rangle =  |0:15\\rangle$"
      ],
      "text/plain": [
       "<IPython.core.display.Math object>"
      ]
     },
     "execution_count": 39,
     "metadata": {},
     "output_type": "execute_result"
    }
   ],
   "source": [
    "Math(statevector_expr(circuit, register_sizes=[4, 1]))\n",
    "\n",
    "# cos(pi*0/16) = 1.000, sin(pi*0/16) = 0.000\n",
    "# cos(pi*1/16) = 0.981, sin(pi*1/16) = 0.195\n",
    "# cos(pi*2/16) = 0.924, sin(pi*2/16) = 0.383\n",
    "# cos(pi*3/16) = 0.831, sin(pi*3/16) = 0.556\n",
    "# cos(pi*4/16) = 0.707, sin(pi*4/16) = 0.707\n",
    "# cos(pi*5/16) = 0.556, sin(pi*5/16) = 0.831\n",
    "# cos(pi*6/16) = 0.383, sin(pi*6/16) = 0.924\n",
    "# cos(pi*7/16) = 0.195, sin(pi*7/16) = 0.981\n",
    "# cos(pi*8/16) = 0.000, sin(pi*8/16) = 1.000\n",
    "# cos(pi*9/16) = -0.195, sin(pi*9/16) = 0.981\n",
    "# cos(pi*10/16) = -0.383, sin(pi*10/16) = 0.924\n",
    "# cos(pi*11/16) = -0.556, sin(pi*11/16) = 0.831\n",
    "# cos(pi*12/16) = -0.707, sin(pi*12/16) = 0.707\n",
    "# cos(pi*13/16) = -0.831, sin(pi*13/16) = 0.556\n",
    "# cos(pi*14/16) = -0.924, sin(pi*14/16) = 0.383\n",
    "# cos(pi*15/16) = -0.981, sin(pi*15/16) = 0.195"
   ]
  },
  {
   "cell_type": "markdown",
   "id": "6cbcea1f",
   "metadata": {},
   "source": [
    "条件分岐としての制御ゲート"
   ]
  },
  {
   "cell_type": "code",
   "execution_count": 40,
   "id": "bddc026b",
   "metadata": {},
   "outputs": [
    {
     "data": {
      "image/png": "[encoded data removed]",
      "text/plain": [
       "<Figure size 586.406x451.5 with 1 Axes>"
      ]
     },
     "execution_count": 40,
     "metadata": {},
     "output_type": "execute_result"
    }
   ],
   "source": [
    "register1 = QuantumRegister(4, name='reg1')\n",
    "register2 = QuantumRegister(1, name='reg2')\n",
    "\n",
    "circuit = QuantumCircuit(register1, register2)\n",
    "\n",
    "circuit.h(register1)\n",
    "\n",
    "dtheta = 2. * np.pi / 16.\n",
    "\n",
    "for idx in range(4):\n",
    "    circuit.cry(dtheta * (2 ** idx), register1[idx], register2[0])\n",
    "\n",
    "circuit.draw('mpl')"
   ]
  },
  {
   "cell_type": "code",
   "execution_count": 41,
   "id": "a83d3743",
   "metadata": {},
   "outputs": [
    {
     "data": {
      "text/latex": [
       "$\\displaystyle | \\text{final} \\rangle = 0.250 |0:0\\rangle + 0.245 |0:1\\rangle + 0.231 |0:2\\rangle + 0.208 |0:3\\rangle + 0.177 |0:4\\rangle + 0.139 |0:5\\rangle \\\\  + 0.096 |0:6\\rangle + 0.049 |0:7\\rangle - 0.049 |0:9\\rangle - 0.096 |0:10\\rangle - 0.139 |0:11\\rangle - 0.177 |0:12\\rangle \\\\  - 0.208 |0:13\\rangle - 0.231 |0:14\\rangle - 0.245 |0:15\\rangle + 0.049 |1:1\\rangle + 0.096 |1:2\\rangle + 0.139 |1:3\\rangle \\\\  + 0.177 |1:4\\rangle + 0.208 |1:5\\rangle + 0.231 |1:6\\rangle + 0.245 |1:7\\rangle + 0.250 |1:8\\rangle + 0.245 |1:9\\rangle \\\\  + 0.231 |1:10\\rangle + 0.208 |1:11\\rangle + 0.177 |1:12\\rangle + 0.139 |1:13\\rangle + 0.096 |1:14\\rangle + 0.049 |1:15\\rangle$"
      ],
      "text/plain": [
       "<IPython.core.display.Math object>"
      ]
     },
     "execution_count": 41,
     "metadata": {},
     "output_type": "execute_result"
    }
   ],
   "source": [
    "lines = statevector_expr(circuit, register_sizes=[4, 1], terms_per_row=6)\n",
    "Math(r' \\\\ '.join(lines))"
   ]
  },
  {
   "cell_type": "markdown",
   "id": "b05ecc53",
   "metadata": {},
   "source": [
    "関数"
   ]
  },
  {
   "cell_type": "code",
   "execution_count": 42,
   "id": "62c6e876",
   "metadata": {},
   "outputs": [
    {
     "data": {
      "image/png": "[encoded data removed]",
      "text/plain": [
       "<Figure size 698.671x618.722 with 1 Axes>"
      ]
     },
     "execution_count": 42,
     "metadata": {},
     "output_type": "execute_result"
    }
   ],
   "source": [
    "input_register = QuantumRegister(3, name='input')\n",
    "output_register = QuantumRegister(4, name='output')\n",
    "\n",
    "circuit = QuantumCircuit(input_register, output_register)\n",
    "\n",
    "# input_registerに適当な値（6）を入力\n",
    "circuit.x(input_register[1])\n",
    "circuit.x(input_register[2])\n",
    "\n",
    "circuit.barrier()\n",
    "\n",
    "# ここからが引き算をするU_f\n",
    "# まずoutput_registerの全てのビットを立てる\n",
    "circuit.x(output_register)\n",
    "for idx in range(3):\n",
    "    # その上で、CNOTを使ってinput_registerでビットが1である時にoutput_registerの対応するビットが0にする\n",
    "    circuit.cx(input_register[idx], output_register[idx])\n",
    "\n",
    "circuit.draw('mpl')"
   ]
  },
  {
   "cell_type": "code",
   "execution_count": 43,
   "id": "0a0c7d94",
   "metadata": {},
   "outputs": [
    {
     "data": {
      "text/latex": [
       "$\\displaystyle | \\text{final} \\rangle =  |9:6\\rangle$"
      ],
      "text/plain": [
       "<IPython.core.display.Math object>"
      ]
     },
     "execution_count": 43,
     "metadata": {},
     "output_type": "execute_result"
    }
   ],
   "source": [
    "Math(statevector_expr(circuit, register_sizes=[3, 4]))"
   ]
  },
  {
   "cell_type": "markdown",
   "id": "8fea2fdd",
   "metadata": {},
   "source": [
    "SWAPテスト"
   ]
  },
  {
   "cell_type": "code",
   "execution_count": 44,
   "id": "40a2686e",
   "metadata": {},
   "outputs": [
    {
     "data": {
      "text/plain": [
       "<qiskit.circuit.instructionset.InstructionSet at 0x2464ef1ece0>"
      ]
     },
     "execution_count": 44,
     "metadata": {},
     "output_type": "execute_result"
    },
    {
     "data": {
      "image/png": "[encoded data removed]",
      "text/plain": [
       "<Figure size 640x480 with 2 Axes>"
      ]
     },
     "metadata": {},
     "output_type": "display_data"
    }
   ],
   "source": [
    "data_width = 3\n",
    "\n",
    "fig, axs = plt.subplots(1, 2)\n",
    "\n",
    "# 適当な状態|ψ>を作る回路\n",
    "psi_circuit = QuantumCircuit(data_width, name='|ψ>')\n",
    "psi_circuit.ry(0.7, 2)\n",
    "psi_circuit.cx(2, 1)\n",
    "psi_circuit.rz(0.5, 1)\n",
    "psi_circuit.cx(1, 0)\n",
    "psi_circuit.draw('mpl', ax=axs[0])\n",
    "axs[0].set_title(r'$\\psi$')\n",
    "\n",
    "# 適当な状態|φ>を作る回路\n",
    "phi_circuit = QuantumCircuit(data_width, name='|φ>')\n",
    "phi_circuit.rx(1.2, 0)\n",
    "phi_circuit.ry(2.1, 1)\n",
    "phi_circuit.cx(0, 2)\n",
    "phi_circuit.cz(1, 2)\n",
    "phi_circuit.ry(0.8, 2)\n",
    "phi_circuit.draw('mpl', ax=axs[1])\n",
    "axs[1].set_title(r'$\\phi$')\n",
    "\n",
    "# パーツが全て揃ったので、内積を計算する回路を作る\n",
    "reg_data1 = QuantumRegister(data_width, name='data1')\n",
    "reg_data2 = QuantumRegister(data_width, name='data2')\n",
    "reg_test = QuantumRegister(1, name='test')\n",
    "out = ClassicalRegister(1, name='out')\n",
    "\n",
    "circuit = QuantumCircuit(reg_data1, reg_data2, reg_test, out, name='SWAP_test')\n",
    "# 状態|ψ>と|φ>をデータレジスタに実現\n",
    "# 他の回路や別に定義したゲートを回路オブジェクトに組み込むときはappend()メソッドを使う\n",
    "# qargsでもとの回路の量子ビットを組み込み先のどの量子ビットに対応させるかを指定する\n",
    "circuit.append(psi_circuit, qargs=reg_data1)\n",
    "circuit.append(phi_circuit, qargs=reg_data2)\n",
    "\n",
    "# 回路図が見やすくなるようにバリアを入れる（計算上は何もしない操作）\n",
    "circuit.barrier()\n",
    "\n",
    "# ここからがSWAPテスト\n",
    "circuit.h(reg_test)\n",
    "\n",
    "for idx in range(data_width):\n",
    "    circuit.cswap(reg_test[0], reg_data1[idx], reg_data2[idx])\n",
    "\n",
    "circuit.h(reg_test)\n",
    "\n",
    "circuit.measure(reg_test, out)"
   ]
  },
  {
   "cell_type": "code",
   "execution_count": 45,
   "id": "553cff6e",
   "metadata": {},
   "outputs": [
    {
     "data": {
      "image/png": "[encoded data removed]",
      "text/plain": [
       "<Figure size 854.47x702.333 with 1 Axes>"
      ]
     },
     "execution_count": 45,
     "metadata": {},
     "output_type": "execute_result"
    }
   ],
   "source": [
    "circuit.draw('mpl')"
   ]
  },
  {
   "cell_type": "code",
   "execution_count": 46,
   "id": "95782d64",
   "metadata": {},
   "outputs": [
    {
     "data": {
      "text/latex": [
       "$\\displaystyle | \\psi \\rangle = 0.939e^{1.92 \\cdot \\pi i} |0\\rangle + 0.343e^{0.08 \\cdot \\pi i} |7\\rangle$"
      ],
      "text/plain": [
       "<IPython.core.display.Math object>"
      ]
     },
     "execution_count": 46,
     "metadata": {},
     "output_type": "execute_result"
    }
   ],
   "source": [
    "Math(statevector_expr(psi_circuit, state_label=r'\\psi'))"
   ]
  },
  {
   "cell_type": "code",
   "execution_count": 47,
   "id": "65fb3b2a",
   "metadata": {},
   "outputs": [
    {
     "data": {
      "text/latex": [
       "$\\displaystyle | \\phi \\rangle = 0.378 |0\\rangle + 0.109i |1\\rangle + 0.659 |2\\rangle - 0.191i |3\\rangle + 0.160 |4\\rangle - 0.259i |5\\rangle + 0.279 |6\\rangle + 0.451i |7\\rangle$"
      ],
      "text/plain": [
       "<IPython.core.display.Math object>"
      ]
     },
     "execution_count": 47,
     "metadata": {},
     "output_type": "execute_result"
    }
   ],
   "source": [
    "Math(statevector_expr(phi_circuit, state_label=r'\\phi'))"
   ]
  },
  {
   "cell_type": "code",
   "execution_count": 48,
   "id": "d4378404",
   "metadata": {},
   "outputs": [
    {
     "name": "stdout",
     "output_type": "stream",
     "text": [
      "0.20287760299395322\n"
     ]
    }
   ],
   "source": [
    "sv_psi = get_statevector_array(psi_circuit)\n",
    "sv_phi = get_statevector_array(phi_circuit)\n",
    "print(np.square(np.abs(np.sum(sv_psi.conjugate() * sv_phi))))"
   ]
  },
  {
   "cell_type": "code",
   "execution_count": 49,
   "id": "a6153277",
   "metadata": {},
   "outputs": [
    {
     "name": "stdout",
     "output_type": "stream",
     "text": [
      "0.202448\n"
     ]
    }
   ],
   "source": [
    "simulator = AerSimulator()\n",
    "sampler = Sampler()\n",
    "shots = 1000000\n",
    "\n",
    "circuit = transpile(circuit, backend=simulator)\n",
    "job_result = sampler.run([circuit], shots=shots).result()\n",
    "counts = job_result[0].data.out.get_counts()\n",
    "\n",
    "print((counts['0'] - counts['1']) / shots)"
   ]
  },
  {
   "cell_type": "markdown",
   "id": "dd307c40",
   "metadata": {},
   "source": [
    "逆回路の利用"
   ]
  },
  {
   "cell_type": "code",
   "execution_count": 50,
   "id": "901d1f74",
   "metadata": {},
   "outputs": [
    {
     "data": {
      "image/png": "[encoded data removed]",
      "text/plain": [
       "<Figure size 668.815x367.889 with 1 Axes>"
      ]
     },
     "execution_count": 50,
     "metadata": {},
     "output_type": "execute_result"
    }
   ],
   "source": [
    "reg_data = QuantumRegister(data_width, name='data')\n",
    "out = ClassicalRegister(data_width, name='out')\n",
    "\n",
    "circuit = QuantumCircuit(reg_data, out)\n",
    "\n",
    "circuit.append(phi_circuit, qargs=reg_data)\n",
    "# psi_circuit.inverse() -> psi_circuitの逆回路\n",
    "circuit.append(psi_circuit.inverse(), qargs=reg_data)\n",
    "\n",
    "# 量子ビット[0, 1, 2, ...]を測定し、結果を古典ビット[0, 1, 2, ...]に書き出す\n",
    "circuit.measure(range(data_width), range(data_width))\n",
    "\n",
    "circuit.draw('mpl')"
   ]
  },
  {
   "cell_type": "code",
   "execution_count": 51,
   "id": "45527f81",
   "metadata": {},
   "outputs": [
    {
     "name": "stdout",
     "output_type": "stream",
     "text": [
      "0.203085\n"
     ]
    }
   ],
   "source": [
    "shots = 1000000\n",
    "\n",
    "circuit = transpile(circuit, backend=simulator)\n",
    "job_result = sampler.run([circuit], shots=shots).result()\n",
    "counts = job_result[0].data.out.get_counts()\n",
    "\n",
    "print(counts['000'] / shots)"
   ]
  },
  {
   "cell_type": "markdown",
   "id": "79ab1a98",
   "metadata": {},
   "source": [
    "複製不可能定理とテレポーテーション"
   ]
  },
  {
   "cell_type": "code",
   "execution_count": 55,
   "id": "df2952b9",
   "metadata": {},
   "outputs": [
    {
     "data": {
      "image/png": "[encoded data removed]",
      "text/plain": [
       "<Figure size 901.418x451.5 with 1 Axes>"
      ]
     },
     "execution_count": 55,
     "metadata": {},
     "output_type": "execute_result"
    }
   ],
   "source": [
    "# まずは入力ビットを適当な状態にする回路を作る\n",
    "# circuit.u (U3 gate)は3パラメータで一つの量子ビットを完全にコントロールするゲート\n",
    "prep_circuit = QuantumCircuit(1, name='prep')\n",
    "prep_circuit.u(0.7, 1.8, 2.1, 0)\n",
    "\n",
    "reg_in = QuantumRegister(1, name='in')\n",
    "reg_out = QuantumRegister(2, name='out')\n",
    "res_in = ClassicalRegister(1)\n",
    "res_ent = ClassicalRegister(1)\n",
    "\n",
    "circuit = QuantumCircuit(reg_in, reg_out, res_in, res_ent)\n",
    "\n",
    "# まずreg_inをprep_circuitの状態にする\n",
    "circuit.append(prep_circuit, qargs=reg_in)\n",
    "\n",
    "# reg_outはベル状態に用意する\n",
    "circuit.h(reg_out[0])\n",
    "circuit.cx(reg_out[0], reg_out[1])\n",
    "\n",
    "# reg_inとreg_outの第一ビットをエンタングルさせる\n",
    "circuit.cx(reg_in[0], reg_out[0])\n",
    "\n",
    "# reg_inにアダマールゲートをかけ、測定する\n",
    "circuit.h(reg_in[0])\n",
    "circuit.measure(reg_in[0], res_in[0])\n",
    "\n",
    "# reg_outのエンタングルしたビットも測定する\n",
    "circuit.measure(reg_out[0], res_ent[0])\n",
    "\n",
    "# reg_out[1]にreg_in, reg_entの測定結果に応じたゲートをかける\n",
    "#circuit.x(reg_out[1]).c_if(res_ent[0], 1)\n",
    "#circuit.z(reg_out[1]).c_if(res_in[0], 1)\n",
    "# 条件付き補正ゲート（新しい構文）\n",
    "with circuit.if_test((res_ent[0], 1)):\n",
    "    circuit.x(reg_out[1])\n",
    "with circuit.if_test((res_in[0], 1)):\n",
    "    circuit.z(reg_out[1])\n",
    "\n",
    "circuit.draw('mpl')"
   ]
  },
  {
   "cell_type": "code",
   "execution_count": 53,
   "id": "cc3988d0",
   "metadata": {},
   "outputs": [
    {
     "data": {
      "text/latex": [
       "$\\displaystyle | \\text{in} \\rangle = 0.939 |0\\rangle + 0.343e^{0.57 \\cdot \\pi i} |1\\rangle$"
      ],
      "text/plain": [
       "<IPython.core.display.Math object>"
      ]
     },
     "execution_count": 53,
     "metadata": {},
     "output_type": "execute_result"
    }
   ],
   "source": [
    "Math(statevector_expr(prep_circuit, state_label=r'\\text{in}'))"
   ]
  },
  {
   "cell_type": "code",
   "execution_count": 54,
   "id": "ccace5ab",
   "metadata": {},
   "outputs": [
    {
     "data": {
      "text/latex": [
       "$\\displaystyle | \\text{final} \\rangle = 0.939 |0:1:0\\rangle + 0.343e^{0.57 \\cdot \\pi i} |1:1:0\\rangle$"
      ],
      "text/plain": [
       "<IPython.core.display.Math object>"
      ]
     },
     "execution_count": 54,
     "metadata": {},
     "output_type": "execute_result"
    }
   ],
   "source": [
    "Math(statevector_expr(circuit, register_sizes=(1, 1, 1)))"
   ]
  }
 ],
 "metadata": {
  "kernelspec": {
   "display_name": "qiskit_server",
   "language": "python",
   "name": "python3"
  },
  "language_info": {
   "codemirror_mode": {
    "name": "ipython",
    "version": 3
   },
   "file_extension": ".py",
   "mimetype": "text/x-python",
   "name": "python",
   "nbconvert_exporter": "python",
   "pygments_lexer": "ipython3",
   "version": "3.10.11"
  }
 },
 "nbformat": 4,
 "nbformat_minor": 5
}
